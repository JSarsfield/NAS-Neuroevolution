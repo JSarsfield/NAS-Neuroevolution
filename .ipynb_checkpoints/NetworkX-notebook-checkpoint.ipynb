{
 "cells": [
  {
   "cell_type": "code",
   "execution_count": 12,
   "metadata": {},
   "outputs": [],
   "source": [
    "import networkx as nx\n",
    "import matplotlib.pyplot as plt"
   ]
  },
  {
   "cell_type": "code",
   "execution_count": 4,
   "metadata": {},
   "outputs": [],
   "source": [
    "class Link:\n",
    "    \"\"\" Connection between two nodes \"\"\"\n",
    "\n",
    "    def __init__(self, x1, y1, x2, y2, weight=1):\n",
    "        self.x1 = x1\n",
    "        self.y1 = y1\n",
    "        self.x2 = x2\n",
    "        self.y2 = y2\n",
    "        self.weight = weight"
   ]
  },
  {
   "cell_type": "code",
   "execution_count": 5,
   "metadata": {},
   "outputs": [],
   "source": [
    "class Node:\n",
    "\n",
    "    def __init__(self, x, y, act_func=None):\n",
    "        self.x = x\n",
    "        self.y = y\n",
    "        self.act_func = act_func"
   ]
  },
  {
   "cell_type": "code",
   "execution_count": 80,
   "metadata": {},
   "outputs": [],
   "source": [
    "G = nx.DiGraph()"
   ]
  },
  {
   "cell_type": "code",
   "execution_count": null,
   "metadata": {},
   "outputs": [],
   "source": []
  },
  {
   "cell_type": "code",
   "execution_count": 81,
   "metadata": {},
   "outputs": [
    {
     "name": "stdout",
     "output_type": "stream",
     "text": [
      "[<__main__.Link object at 0x7fb5406e4d30>, <__main__.Link object at 0x7fb5406e4e10>, <__main__.Link object at 0x7fb5406e4710>, <__main__.Link object at 0x7fb5406e4f60>, <__main__.Link object at 0x7fb5406e4160>, <__main__.Link object at 0x7fb5406e49e8>, <__main__.Link object at 0x7fb5406e4518>, <__main__.Link object at 0x7fb5406e4f28>, <__main__.Link object at 0x7fb5406e4400>, <__main__.Link object at 0x7fb5406e45c0>]\n"
     ]
    }
   ],
   "source": [
    "i1 = Link(-1,-1,-0.8,-0.8)\n",
    "i2 = Link(0,-1,-0.8,-0.8)\n",
    "i3 = Link(1,-1,-0.8,-0.8)\n",
    "h1 = Link(-0.8,-0.8, 0, 0)\n",
    "h2 = Link(0,-0.8,0,0)\n",
    "h3 = Link(0,0,0.5,0.5)\n",
    "h4 = Link(0,0,0.4,0.4)\n",
    "#h4 = Link(0.5,0.5,0.5,0.8)\n",
    "h5 = Link(0.6,0.6,0.7,0.7)\n",
    "h6 = Link(0.4,0.4,0,1)\n",
    "o1 = Link(0.5,0.5,0,1)\n",
    "links = [i1, i2, i3, h1, h2, h3, h4, h5, h6, o1]\n",
    "print(links)"
   ]
  },
  {
   "cell_type": "code",
   "execution_count": 82,
   "metadata": {},
   "outputs": [
    {
     "data": {
      "text/plain": [
       "[None, None, None, None, None, None, None, None, None, None]"
      ]
     },
     "execution_count": 82,
     "metadata": {},
     "output_type": "execute_result"
    }
   ],
   "source": [
    "[G.add_edge((l.x1,l.y1), (l.x2,l.y2)) for l in links]"
   ]
  },
  {
   "cell_type": "code",
   "execution_count": 86,
   "metadata": {},
   "outputs": [
    {
     "data": {
      "image/png": "[encoded data removed]",
      "text/plain": [
       "<Figure size 432x288 with 1 Axes>"
      ]
     },
     "metadata": {},
     "output_type": "display_data"
    }
   ],
   "source": [
    "nx.drawing.nx_pylab.draw(G)"
   ]
  },
  {
   "cell_type": "code",
   "execution_count": 92,
   "metadata": {},
   "outputs": [
    {
     "data": {
      "text/plain": [
       "[[(-1, -1), (-0.8, -0.8), (0, 0), (0.5, 0.5), (0, 1)],\n",
       " [(-1, -1), (-0.8, -0.8), (0, 0), (0.4, 0.4), (0, 1)]]"
      ]
     },
     "execution_count": 92,
     "metadata": {},
     "output_type": "execute_result"
    }
   ],
   "source": [
    "list(nx.all_simple_paths(G, source=(-1,-1), target=(0,1)))"
   ]
  },
  {
   "cell_type": "code",
   "execution_count": 89,
   "metadata": {},
   "outputs": [
    {
     "data": {
      "text/plain": [
       "{(-1, -1),\n",
       " (-0.8, -0.8),\n",
       " (0, -1),\n",
       " (0, 0),\n",
       " (0, 1),\n",
       " (0.4, 0.4),\n",
       " (0.5, 0.5),\n",
       " (1, -1)}"
      ]
     },
     "execution_count": 89,
     "metadata": {},
     "output_type": "execute_result"
    }
   ],
   "source": [
    "set([con for e in [(-1,-1), (0,-1), (1,-1)] for path in nx.all_simple_paths(G, source=e, target=(0,1)) for con in path])"
   ]
  }
 ],
 "metadata": {
  "kernelspec": {
   "display_name": "Python 3",
   "language": "python",
   "name": "python3"
  },
  "language_info": {
   "codemirror_mode": {
    "name": "ipython",
    "version": 3
   },
   "file_extension": ".py",
   "mimetype": "text/x-python",
   "name": "python",
   "nbconvert_exporter": "python",
   "pygments_lexer": "ipython3",
   "version": "3.7.3"
  }
 },
 "nbformat": 4,
 "nbformat_minor": 2
}
